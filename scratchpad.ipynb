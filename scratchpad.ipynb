{
 "cells": [
  {
   "cell_type": "code",
   "execution_count": 1,
   "metadata": {},
   "outputs": [],
   "source": [
    "import scipy.stats as stats\n",
    "import matplotlib.pyplot as plt\n",
    "import requests\n",
    "from jsonrpcclient import request"
   ]
  },
  {
   "cell_type": "code",
   "execution_count": 25,
   "metadata": {},
   "outputs": [
    {
     "data": {
      "image/png": "[encoded data removed]",
      "text/plain": [
       "<Figure size 432x288 with 1 Axes>"
      ]
     },
     "metadata": {
      "needs_background": "light"
     },
     "output_type": "display_data"
    }
   ],
   "source": [
    "n = 32\n",
    "l = 15\n",
    "\n",
    "x = [i * (2 * n * l) / 1000 for i in range(1000)]\n",
    "y = stats.gamma.pdf(x, a=n, scale=l)\n",
    "\n",
    "fig, ax = plt.subplots()\n",
    "\n",
    "ax.plot(x, y);"
   ]
  },
  {
   "cell_type": "code",
   "execution_count": null,
   "metadata": {},
   "outputs": [],
   "source": [
    "# do coefficient of variation analysis\n",
    "\n",
    "cv = lambda x: np.std(x, ddof=1) / np.mean(x)\n",
    "\n",
    "steps = [\n",
    "    2, 3, 4, 6, 8, 12, 16, 24, 32, 48, 64, 96, 128, 192, 256, 384, 512, 768, 1024,\n",
    "    1536, 2048, 3072, 4096, 6144, 8192, 12228, 16384, 24576, 32768\n",
    "    \n",
    "]\n",
    "cv_means = [0] * len(steps)\n",
    "\n",
    "for i, step in enumerate(steps):\n",
    "    cv_sum = 0\n",
    "    cv_count = 0\n",
    "    for start_index in range(12970712 - START_BLOCKNUM, END_BLOCKNUM - START_BLOCKNUM - step, step):\n",
    "        bf = [blocks[j]['basefee'] for j in range(start_index, start_index + step)]\n",
    "        cv_sum += cv(bf)\n",
    "        cv_count += 1\n",
    "    cv_means[i] = cv_sum / cv_count\n",
    "\n",
    "fig, ax = plt.subplots(figsize=(12,8))\n",
    "ax.semilogx(steps, cv_means);"
   ]
  },
  {
   "cell_type": "code",
   "execution_count": null,
   "metadata": {},
   "outputs": [],
   "source": [
    "# group blocks by block number (rather than timestamp)\n",
    "\n",
    "group_size = 32\n",
    "\n",
    "# get group boundaries (ensure we divide blocks cleanly into pre- and post-London)\n",
    "first_group = START_BLOCKNUM + (LONDON_BLOCKNUM - START_BLOCKNUM) % group_size\n",
    "num_groups = (END_BLOCKNUM - first_group) // group_size\n",
    "\n",
    "run_start_time = time.time()\n",
    "last_update = 0\n",
    "\n",
    "group_price_deciles = []\n",
    "group_price_deciles_type2 = []\n",
    "group_mean_basefees = []\n",
    "\n",
    "for groupnum in range(num_groups):\n",
    "    group_start = first_group + groupnum * group_size\n",
    "    group_tx_gas_used = []\n",
    "    group_tx_gas_price = []\n",
    "    group_tx_type = []\n",
    "    for blocknum in range(group_start, group_start + group_size):\n",
    "        ind = blocknum - START_BLOCKNUM\n",
    "        group_tx_gas_used += blocks[ind]['txs_gas_used']\n",
    "        group_tx_gas_price += blocks[ind]['txs_gas_price']\n",
    "        group_tx_type += blocks[ind]['txs_type']\n",
    "    \n",
    "    tuples = zip(*sorted(zip(group_tx_gas_price, group_tx_gas_used, group_tx_type)))\n",
    "    group_tx_gas_price, group_tx_gas_used, group_tx_type = [list(t) for t in tuples]\n",
    "    \n",
    "    group_total_gas = sum(group_tx_gas_used)\n",
    "    group_total_type2_gas = sum(g for i, g in enumerate(group_tx_gas_used) if group_tx_type[i] == 2)\n",
    "    cumulative_gas = 0\n",
    "    cumulative_type2_gas = 0\n",
    "    deciles = [None] * 9\n",
    "    type2_deciles = [None] * 9\n",
    "    for i, g in enumerate(group_tx_gas_used):\n",
    "        cumulative_gas += g\n",
    "        for j, d in enumerate(deciles):\n",
    "            if d is None and cumulative_gas >= group_total_gas * (j + 1) / 10:\n",
    "                deciles[j] = group_tx_gas_price[i] / 1e9\n",
    "        if group_tx_type[i] == 2:\n",
    "            cumulative_type2_gas += g\n",
    "            for j, d in enumerate(type2_deciles):\n",
    "                if d is None and cumulative_type2_gas >= group_total_type2_gas * (j + 1) / 10:\n",
    "                    type2_deciles[j] = group_tx_gas_price[i] / 1e9\n",
    "        \n",
    "    group_price_deciles += [deciles]\n",
    "    group_price_deciles_type2 += [type2_deciles]\n",
    "    \n",
    "    current_time = time.time()\n",
    "    if current_time - last_update > 0.1:\n",
    "        last_update = current_time\n",
    "        frac = (groupnum + 1) / num_groups\n",
    "        runtime_str = str(timedelta(seconds=int(current_time - run_start_time)))\n",
    "        print(\"runtime: \" + runtime_str + f\" {100 * frac:.2f}% complete\", end='\\r')\n",
    "\n",
    "print(\"complete in \" + runtime_str + (' ' * 20))"
   ]
  },
  {
   "cell_type": "code",
   "execution_count": 3,
   "metadata": {},
   "outputs": [
    {
     "name": "stdout",
     "output_type": "stream",
     "text": [
      "{'jsonrpc': '2.0', 'id': 2, 'result': {'blockHash': '0x9b83c12c69edb74f6c8dd5d052765c1adf940e320bd1291696e6fa07829eee71', 'blockNumber': '0xc5d488', 'from': '0x0000a0756737268a633cd9296f1b154cf74430b6', 'gas': '0x4e200', 'gasPrice': '0x840fc1280', 'hash': '0x9e3d52ddbdde3bf2ac34651e5d96d2367694b0483f46a5bd9d771a6d900ee638', 'input': '0x178979ae0000000000000000000000000000000476fde29330084b2b0b08a9f7d2ac6f2b0000000000000000000000000000000000000000000000000000000000000000000000000000000000000000000000000000000000000000000000000000006000000000000000000000000000000000000000000000000000000000000001044a25d94a0000000000000000000000000000000000000000000000004f828ffeafa5400000000000000000000000000000000000000000000000052c0ebb419c4bc0000000000000000000000000000000000000000000000000000000000000000000a00000000000000000000000000000006daea1723962647b7e189d311d757fb79300000000000000000000000000000000000000000000000000000000610bdb2000000000000000000000000000000000000000000000000000000000000000020000000000000000000000003845badade8e6dff049820680d1f14bd3903a5d0000000000000000000000000c02aaa39b223fe8d0a0e5c4f27ead9083c756cc200000000000000000000000000000000000000000000000000000000', 'nonce': '0x17e74', 'to': '0x0000006daea1723962647b7e189d311d757fb793', 'transactionIndex': '0xa', 'value': '0x0', 'type': '0x0', 'v': '0x26', 'r': '0x5621e4b843de70ac9fdfc9eecc82f7a2704f5216920905f5509ffb613c369c30', 's': '0x7a9f08dc4ecf39be806f689410feda2adabdb34807312235af02caa9514381c6'}}\n"
     ]
    }
   ],
   "source": [
    "ERIGON_URL = \"http://192.168.1.104:8545/\"\n",
    "rq = request('eth_getTransactionByBlockNumberAndIndex', [hex(12965000), hex(10)])\n",
    "tx = requests.post(ERIGON_URL, json=rq).json()\n",
    "print(tx)"
   ]
  }
 ],
 "metadata": {
  "kernelspec": {
   "display_name": "Python 3",
   "language": "python",
   "name": "python3"
  },
  "language_info": {
   "codemirror_mode": {
    "name": "ipython",
    "version": 3
   },
   "file_extension": ".py",
   "mimetype": "text/x-python",
   "name": "python",
   "nbconvert_exporter": "python",
   "pygments_lexer": "ipython3",
   "version": "3.8.10"
  }
 },
 "nbformat": 4,
 "nbformat_minor": 4
}
